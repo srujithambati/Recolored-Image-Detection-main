{
 "cells": [
  {
   "cell_type": "code",
   "execution_count": 1,
   "metadata": {},
   "outputs": [],
   "source": [
    "import os"
   ]
  },
  {
   "cell_type": "code",
   "execution_count": 2,
   "metadata": {},
   "outputs": [],
   "source": [
    "path_orig = 'C:/Users/user1/Desktop/recolred_img_detection/final proj/casia/Au'\n",
    "path_modif = 'C:/Users/user1/Desktop/recolred_img_detection/final proj/casia/Tp'\n",
    "\n"
   ]
  },
  {
   "cell_type": "code",
   "execution_count": 3,
   "metadata": {},
   "outputs": [],
   "source": [
    "folder_orig = os.listdir()\n"
   ]
  },
  {
   "cell_type": "code",
   "execution_count": 4,
   "metadata": {},
   "outputs": [],
   "source": [
    "strings=[]"
   ]
  },
  {
   "cell_type": "code",
   "execution_count": 5,
   "metadata": {},
   "outputs": [],
   "source": [
    "for file in os.listdir(path_orig) :\n",
    "  try:\n",
    "    if file.endswith('jpg'):\n",
    "        line =  os.path.join(path_orig,file)+',0\\n'\n",
    "        strings.append(line)\n",
    "        \n",
    "  except:\n",
    "    print(path_orig+file)\n",
    "\n",
    "strings=strings[:2500]    \n"
   ]
  },
  {
   "cell_type": "code",
   "execution_count": 6,
   "metadata": {},
   "outputs": [
    {
     "data": {
      "text/plain": [
       "2500"
      ]
     },
     "execution_count": 6,
     "metadata": {},
     "output_type": "execute_result"
    }
   ],
   "source": [
    "len(strings)"
   ]
  },
  {
   "cell_type": "code",
   "execution_count": 7,
   "metadata": {},
   "outputs": [],
   "source": [
    "for file in os.listdir(path_modif) :\n",
    "  try:\n",
    "    if file.endswith('jpg'):\n",
    "        line =  os.path.join(path_modif,file)+',1\\n'\n",
    "        strings.append(line)\n",
    "        \n",
    "  except:\n",
    "    print(path_modif+file)\n",
    "\n",
    "    \n"
   ]
  },
  {
   "cell_type": "code",
   "execution_count": 8,
   "metadata": {},
   "outputs": [
    {
     "data": {
      "text/plain": [
       "'C:/Users/user1/Desktop/recolred_img_detection/final proj/casia/Tp\\\\Tp_S_NRN_S_O_cha10187_cha10187_12308.jpg,1\\n'"
      ]
     },
     "execution_count": 8,
     "metadata": {},
     "output_type": "execute_result"
    }
   ],
   "source": [
    "strings[-1]"
   ]
  },
  {
   "cell_type": "code",
   "execution_count": 9,
   "metadata": {},
   "outputs": [],
   "source": [
    "for line in strings:\n",
    "      with open('image_dataset.csv', 'a') as f:\n",
    "         f.write(line)\n"
   ]
  },
  {
   "cell_type": "code",
   "execution_count": 10,
   "metadata": {},
   "outputs": [],
   "source": [
    "import pandas as pd"
   ]
  },
  {
   "cell_type": "code",
   "execution_count": 12,
   "metadata": {},
   "outputs": [],
   "source": [
    "d=pd.read_csv('image_dataset.csv')"
   ]
  },
  {
   "cell_type": "code",
   "execution_count": 13,
   "metadata": {},
   "outputs": [
    {
     "name": "stdout",
     "output_type": "stream",
     "text": [
      "  C:/Users/user1/Desktop/recolred_img_detection/final proj/casia/Au\\Au_ani_00001.jpg  \\\n",
      "0  C:/Users/user1/Desktop/recolred_img_detection/...                                   \n",
      "1  C:/Users/user1/Desktop/recolred_img_detection/...                                   \n",
      "2  C:/Users/user1/Desktop/recolred_img_detection/...                                   \n",
      "3  C:/Users/user1/Desktop/recolred_img_detection/...                                   \n",
      "4  C:/Users/user1/Desktop/recolred_img_detection/...                                   \n",
      "\n",
      "   0  \n",
      "0  0  \n",
      "1  0  \n",
      "2  0  \n",
      "3  0  \n",
      "4  0  \n"
     ]
    }
   ],
   "source": [
    "print(d.head())"
   ]
  },
  {
   "cell_type": "code",
   "execution_count": null,
   "metadata": {},
   "outputs": [],
   "source": []
  }
 ],
 "metadata": {
  "kernelspec": {
   "display_name": "Python 3",
   "language": "python",
   "name": "python3"
  },
  "language_info": {
   "codemirror_mode": {
    "name": "ipython",
    "version": 3
   },
   "file_extension": ".py",
   "mimetype": "text/x-python",
   "name": "python",
   "nbconvert_exporter": "python",
   "pygments_lexer": "ipython3",
   "version": "3.7.4"
  }
 },
 "nbformat": 4,
 "nbformat_minor": 2
}
